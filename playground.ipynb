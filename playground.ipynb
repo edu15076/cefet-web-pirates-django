{
 "cells": [
  {
   "cell_type": "code",
   "execution_count": 4,
   "metadata": {
    "collapsed": true,
    "ExecuteTime": {
     "start_time": "2023-04-01T11:28:51.369399Z",
     "end_time": "2023-04-01T11:28:51.373434Z"
    }
   },
   "outputs": [],
   "source": [
    "import os\n",
    "import django\n",
    "os.environ.setdefault(\"DJANGO_SETTINGS_MODULE\", \"web_pirates.settings\")\n",
    "os.environ[\"DJANGO_ALLOW_ASYNC_UNSAFE\"] = \"true\"\n",
    "django.setup()"
   ]
  },
  {
   "cell_type": "code",
   "execution_count": 5,
   "outputs": [],
   "source": [
    "from pirates.models import Tesouro\n",
    "from django.db.models import F, ExpressionWrapper, DecimalField, Sum"
   ],
   "metadata": {
    "collapsed": false,
    "ExecuteTime": {
     "start_time": "2023-04-01T11:28:54.172352Z",
     "end_time": "2023-04-01T11:28:54.175112Z"
    }
   }
  },
  {
   "cell_type": "code",
   "execution_count": 6,
   "outputs": [
    {
     "data": {
      "text/plain": "(1, {'pirates.Tesouro': 1})"
     },
     "execution_count": 6,
     "metadata": {},
     "output_type": "execute_result"
    }
   ],
   "source": [
    "Tesouro.objects.all().delete()"
   ],
   "metadata": {
    "collapsed": false,
    "ExecuteTime": {
     "start_time": "2023-04-01T11:28:56.817988Z",
     "end_time": "2023-04-01T11:28:56.827453Z"
    }
   }
  },
  {
   "cell_type": "code",
   "execution_count": 7,
   "outputs": [
    {
     "ename": "DoesNotExist",
     "evalue": "Tesouro matching query does not exist.",
     "output_type": "error",
     "traceback": [
      "\u001B[1;31m---------------------------------------------------------------------------\u001B[0m",
      "\u001B[1;31mDoesNotExist\u001B[0m                              Traceback (most recent call last)",
      "Cell \u001B[1;32mIn[7], line 1\u001B[0m\n\u001B[1;32m----> 1\u001B[0m \u001B[43mTesouro\u001B[49m\u001B[38;5;241;43m.\u001B[39;49m\u001B[43mobjects\u001B[49m\u001B[38;5;241;43m.\u001B[39;49m\u001B[43mget\u001B[49m\u001B[43m(\u001B[49m\u001B[38;5;28;43mid\u001B[39;49m\u001B[38;5;241;43m=\u001B[39;49m\u001B[38;5;28;43;01mNone\u001B[39;49;00m\u001B[43m)\u001B[49m\n",
      "File \u001B[1;32mC:\\main\\Studies\\Projeto_Hasan\\Capacitacao\\venv\\Lib\\site-packages\\django\\db\\models\\manager.py:85\u001B[0m, in \u001B[0;36mBaseManager._get_queryset_methods.<locals>.create_method.<locals>.manager_method\u001B[1;34m(self, *args, **kwargs)\u001B[0m\n\u001B[0;32m     84\u001B[0m \u001B[38;5;28;01mdef\u001B[39;00m \u001B[38;5;21mmanager_method\u001B[39m(\u001B[38;5;28mself\u001B[39m, \u001B[38;5;241m*\u001B[39margs, \u001B[38;5;241m*\u001B[39m\u001B[38;5;241m*\u001B[39mkwargs):\n\u001B[1;32m---> 85\u001B[0m     \u001B[38;5;28;01mreturn\u001B[39;00m \u001B[38;5;28;43mgetattr\u001B[39;49m\u001B[43m(\u001B[49m\u001B[38;5;28;43mself\u001B[39;49m\u001B[38;5;241;43m.\u001B[39;49m\u001B[43mget_queryset\u001B[49m\u001B[43m(\u001B[49m\u001B[43m)\u001B[49m\u001B[43m,\u001B[49m\u001B[43m \u001B[49m\u001B[43mname\u001B[49m\u001B[43m)\u001B[49m\u001B[43m(\u001B[49m\u001B[38;5;241;43m*\u001B[39;49m\u001B[43margs\u001B[49m\u001B[43m,\u001B[49m\u001B[43m \u001B[49m\u001B[38;5;241;43m*\u001B[39;49m\u001B[38;5;241;43m*\u001B[39;49m\u001B[43mkwargs\u001B[49m\u001B[43m)\u001B[49m\n",
      "File \u001B[1;32mC:\\main\\Studies\\Projeto_Hasan\\Capacitacao\\venv\\Lib\\site-packages\\django\\db\\models\\query.py:650\u001B[0m, in \u001B[0;36mQuerySet.get\u001B[1;34m(self, *args, **kwargs)\u001B[0m\n\u001B[0;32m    648\u001B[0m     \u001B[38;5;28;01mreturn\u001B[39;00m clone\u001B[38;5;241m.\u001B[39m_result_cache[\u001B[38;5;241m0\u001B[39m]\n\u001B[0;32m    649\u001B[0m \u001B[38;5;28;01mif\u001B[39;00m \u001B[38;5;129;01mnot\u001B[39;00m num:\n\u001B[1;32m--> 650\u001B[0m     \u001B[38;5;28;01mraise\u001B[39;00m \u001B[38;5;28mself\u001B[39m\u001B[38;5;241m.\u001B[39mmodel\u001B[38;5;241m.\u001B[39mDoesNotExist(\n\u001B[0;32m    651\u001B[0m         \u001B[38;5;124m\"\u001B[39m\u001B[38;5;132;01m%s\u001B[39;00m\u001B[38;5;124m matching query does not exist.\u001B[39m\u001B[38;5;124m\"\u001B[39m \u001B[38;5;241m%\u001B[39m \u001B[38;5;28mself\u001B[39m\u001B[38;5;241m.\u001B[39mmodel\u001B[38;5;241m.\u001B[39m_meta\u001B[38;5;241m.\u001B[39mobject_name\n\u001B[0;32m    652\u001B[0m     )\n\u001B[0;32m    653\u001B[0m \u001B[38;5;28;01mraise\u001B[39;00m \u001B[38;5;28mself\u001B[39m\u001B[38;5;241m.\u001B[39mmodel\u001B[38;5;241m.\u001B[39mMultipleObjectsReturned(\n\u001B[0;32m    654\u001B[0m     \u001B[38;5;124m\"\u001B[39m\u001B[38;5;124mget() returned more than one \u001B[39m\u001B[38;5;132;01m%s\u001B[39;00m\u001B[38;5;124m -- it returned \u001B[39m\u001B[38;5;132;01m%s\u001B[39;00m\u001B[38;5;124m!\u001B[39m\u001B[38;5;124m\"\u001B[39m\n\u001B[0;32m    655\u001B[0m     \u001B[38;5;241m%\u001B[39m (\n\u001B[1;32m   (...)\u001B[0m\n\u001B[0;32m    658\u001B[0m     )\n\u001B[0;32m    659\u001B[0m )\n",
      "\u001B[1;31mDoesNotExist\u001B[0m: Tesouro matching query does not exist."
     ]
    }
   ],
   "source": [
    "Tesouro.objects.get(id=None)"
   ],
   "metadata": {
    "collapsed": false
   }
  },
  {
   "cell_type": "code",
   "execution_count": 4,
   "outputs": [
    {
     "data": {
      "text/plain": "<Tesouro: Tesouro object (1)>"
     },
     "execution_count": 4,
     "metadata": {},
     "output_type": "execute_result"
    }
   ],
   "source": [
    "Tesouro.objects.create(nome='rum', preco='50', quantidade='3', img_tesouro='pirates/imgs/run.png')"
   ],
   "metadata": {
    "collapsed": false,
    "ExecuteTime": {
     "start_time": "2023-03-31T09:27:58.916572Z",
     "end_time": "2023-03-31T09:27:58.933092Z"
    }
   }
  },
  {
   "cell_type": "code",
   "execution_count": 27,
   "outputs": [
    {
     "name": "stdout",
     "output_type": "stream",
     "text": [
      "{'tesouros': <QuerySet [<Tesouro: Tesouro object (1)>]>, 'total_geral': Decimal('150')}\n"
     ]
    }
   ],
   "source": [
    "type_valor_total = DecimalField(max_digits=10, decimal_places=2, blank=True)\n",
    "valor_total = ExpressionWrapper(F('preco') * F('quantidade'), output_field=type_valor_total)\n",
    "tesouros = Tesouro.objects.annotate(valor_total=valor_total)\n",
    "d = tesouros.aggregate(total_geral=Sum('valor_total'))\n",
    "context = {'tesouros': tesouros}\n",
    "context.update(d)\n",
    "print(context)"
   ],
   "metadata": {
    "collapsed": false,
    "ExecuteTime": {
     "start_time": "2023-03-31T09:44:56.868542Z",
     "end_time": "2023-03-31T09:44:56.873708Z"
    }
   }
  },
  {
   "cell_type": "code",
   "execution_count": 20,
   "outputs": [
    {
     "name": "stdout",
     "output_type": "stream",
     "text": [
      "150\n"
     ]
    }
   ],
   "source": [
    "for tesouro in tesouros:\n",
    "    print(tesouro.valor_total)"
   ],
   "metadata": {
    "collapsed": false,
    "ExecuteTime": {
     "start_time": "2023-03-31T09:36:33.252345Z",
     "end_time": "2023-03-31T09:36:33.255413Z"
    }
   }
  }
 ],
 "metadata": {
  "kernelspec": {
   "display_name": "Python 3",
   "language": "python",
   "name": "python3"
  },
  "language_info": {
   "codemirror_mode": {
    "name": "ipython",
    "version": 2
   },
   "file_extension": ".py",
   "mimetype": "text/x-python",
   "name": "python",
   "nbconvert_exporter": "python",
   "pygments_lexer": "ipython2",
   "version": "2.7.6"
  }
 },
 "nbformat": 4,
 "nbformat_minor": 0
}
